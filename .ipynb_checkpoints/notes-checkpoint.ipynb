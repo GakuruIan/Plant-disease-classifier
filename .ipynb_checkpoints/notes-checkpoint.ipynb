{
 "cells": [
  {
   "cell_type": "code",
   "execution_count": null,
   "id": "dd295fb8-a6f6-4c4b-91ef-5bbcf4138cea",
   "metadata": {},
   "outputs": [],
   "source": [
    "# generates a dataset from image files in a directory\n",
    "# train_ds = image_dataset_from_directory(data_dir,\n",
    "#                                         validation_split=0.2,\n",
    "#                                         subset=\"training\",\n",
    "#                                         seed=123,\n",
    "#                                         image_size=(img_height,img_width),\n",
    "#                                         batch_size=batch_size)\n",
    "\n",
    "\n",
    "# creating validation dataset\n",
    "# val_ds = image_dataset_from_directory(data_dir,\n",
    "#                                       validation_split=0.2,\n",
    "#                                       subset='validation',\n",
    "#                                       seed=123,\n",
    "#                                       image_size=(img_height,img_width),\n",
    "#                                       batch_size=batch_size)\n",
    "\n",
    "# labels for dataset\n",
    "# class_names= train_ds.class_names"
   ]
  },
  {
   "cell_type": "code",
   "execution_count": null,
   "id": "80fd71f9-4127-4102-9451-f6c60a28c879",
   "metadata": {},
   "outputs": [],
   "source": [
    "#reference notes \n",
    "\n",
    "# plt.figure(figsize=(10,10))\n",
    "\n",
    "#take(1) - used to specify the number of batch to take from your dataset\n",
    "\n",
    "# for images,labels in train_ds.take(1):\n",
    "#     for i in range(9):\n",
    "#         ax =plt.subplot(3,3,i+1)\n",
    "#         plt.title(class_names[labels[i]])\n",
    "#         plt.imshow(images[i].numpy().astype('uint8'))\n",
    "#         plt.axis(\"off\")\n",
    "#         plt.show()"
   ]
  },
  {
   "cell_type": "code",
   "execution_count": null,
   "id": "9293a425-5fd7-477a-8c83-805df3c1f25e",
   "metadata": {},
   "outputs": [],
   "source": [
    "# convert dataset to numpy array\n",
    "# images_list,labels_list = [],[]\n",
    "\n",
    "# for images,labels in train_ds:\n",
    "#     images_list.append(images.numpy().astype('uint8'))\n",
    "#     labels_list.append(labels.numpy().astype('uint8'))\n"
   ]
  },
  {
   "cell_type": "code",
   "execution_count": null,
   "id": "2bd52603-6214-4525-8139-ca0c7ef95a4e",
   "metadata": {},
   "outputs": [],
   "source": [
    "# converting validation data set\n",
    "# val_images_list,val_labels_list = [],[]\n",
    "\n",
    "# for images,labels in val_ds:\n",
    "#     val_images_list.append(images.numpy().astype('uint8'))\n",
    "#     val_labels_list.append(labels.numpy().astype('uint8'))\n",
    "\n"
   ]
  },
  {
   "cell_type": "code",
   "execution_count": null,
   "id": "8480a568-d160-4e03-87ec-43a9b94fccdf",
   "metadata": {},
   "outputs": [],
   "source": [
    "# putting all the batches into a single list\n",
    "# X_train = np.concatenate(images_list, axis=0)\n",
    "# y_train = np.concatenate(labels_list, axis=0)\n",
    "\n",
    "# X_train.shape,y_train.shape"
   ]
  },
  {
   "cell_type": "code",
   "execution_count": null,
   "id": "4d7f07db-0899-4a23-b916-27fbf2afeeb7",
   "metadata": {},
   "outputs": [],
   "source": [
    "# putting all the batches into a single list\n",
    "# X_test = np.concatenate(val_images_list, axis=0)\n",
    "# y_test = np.concatenate(val_labels_list, axis=0)\n",
    "\n",
    "# X_test.shape,y_test.shape"
   ]
  },
  {
   "cell_type": "code",
   "execution_count": null,
   "id": "41011cb2-299d-4974-9138-65fd0f3cedac",
   "metadata": {},
   "outputs": [],
   "source": [
    "# standardize the data\n",
    "# normalizer = Rescaling(1./255)\n",
    "\n",
    "# X_train_scaled = normalizer(X_train)\n",
    "# X_test_scaled= normalizer(X_test)"
   ]
  }
 ],
 "metadata": {
  "kernelspec": {
   "display_name": "Python 3 (ipykernel)",
   "language": "python",
   "name": "python3"
  },
  "language_info": {
   "codemirror_mode": {
    "name": "ipython",
    "version": 3
   },
   "file_extension": ".py",
   "mimetype": "text/x-python",
   "name": "python",
   "nbconvert_exporter": "python",
   "pygments_lexer": "ipython3",
   "version": "3.10.13"
  }
 },
 "nbformat": 4,
 "nbformat_minor": 5
}
