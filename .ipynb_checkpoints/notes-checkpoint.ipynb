{
 "cells": [
  {
   "cell_type": "code",
   "execution_count": null,
   "id": "aca58333-fc6b-4dd8-90d1-ee2dfae66615",
   "metadata": {},
   "outputs": [],
   "source": [
    "# checking for unsupported files in tensorflow\n",
    "def Verify_Images(path):\n",
    "    for root, dirs, files in os.walk(path):\n",
    "        for file in files:\n",
    "            if not file.lower().endswith(('.jpg', '.jpeg', '.png', '.gif', '.bmp')):\n",
    "                print(f\"Unsupported file found and removed: {os.path.join(root, file)}\")\n",
    "                os.remove(os.path.join(root, file))"
   ]
  },
  {
   "cell_type": "code",
   "execution_count": null,
   "id": "ce82c522-b2ff-4b8b-940c-73266457fb21",
   "metadata": {},
   "outputs": [],
   "source": [
    "# removing non images\n",
    "import imghdr\n",
    "\n",
    "def Remove_non_images(path):\n",
    "    image_extensions = [\".png\", \".jpg\",\"jpeg\"] \n",
    "    \n",
    "    img_type_accepted_by_tf = [\"bmp\", \"gif\", \"jpeg\", \"png\"]\n",
    "    for filepath in pathlib.Path(path).rglob(\"*\"):\n",
    "        if filepath.suffix.lower() in image_extensions:\n",
    "            img_type = imghdr.what(filepath)\n",
    "            if img_type is None:\n",
    "                os.remove(filepath)\n",
    "                print(f\"{filepath} is not an image removing...\")\n",
    "            elif img_type not in img_type_accepted_by_tf:\n",
    "                os.remove(filepath)\n",
    "                print(f\"{filepath} is a {img_type}, not accepted by TensorFlow\")"
   ]
  }
 ],
 "metadata": {
  "kernelspec": {
   "display_name": "Python 3 (ipykernel)",
   "language": "python",
   "name": "python3"
  },
  "language_info": {
   "codemirror_mode": {
    "name": "ipython",
    "version": 3
   },
   "file_extension": ".py",
   "mimetype": "text/x-python",
   "name": "python",
   "nbconvert_exporter": "python",
   "pygments_lexer": "ipython3",
   "version": "3.10.13"
  }
 },
 "nbformat": 4,
 "nbformat_minor": 5
}
